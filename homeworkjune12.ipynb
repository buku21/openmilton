{
  "nbformat": 4,
  "nbformat_minor": 0,
  "metadata": {
    "colab": {
      "name": "homeworkjune12.ipynb",
      "provenance": [],
      "collapsed_sections": [],
      "mount_file_id": "1hFCzwNNInp7D0E7L1zbSQyTaLhn3ahQE",
      "authorship_tag": "ABX9TyP8vFye5gI+QGS2o6ViekR/",
      "include_colab_link": true
    },
    "kernelspec": {
      "name": "python3",
      "display_name": "Python 3"
    }
  },
  "cells": [
    {
      "cell_type": "markdown",
      "metadata": {
        "id": "view-in-github",
        "colab_type": "text"
      },
      "source": [
        "<a href=\"https://colab.research.google.com/github/buku21/openmilton/blob/master/homeworkjune12.ipynb\" target=\"_parent\"><img src=\"https://colab.research.google.com/assets/colab-badge.svg\" alt=\"Open In Colab\"/></a>"
      ]
    },
    {
      "cell_type": "markdown",
      "metadata": {
        "id": "6TG2wJQEAivH",
        "colab_type": "text"
      },
      "source": [
        "Write a function, maxnum, that takes a single argument, a list of numbers. \n",
        "It returns the largest number in that list. (Do not use the built-in max function to do this!)"
      ]
    },
    {
      "cell_type": "code",
      "metadata": {
        "id": "9aEn9VdiA7tp",
        "colab_type": "code",
        "colab": {
          "base_uri": "https://localhost:8080/",
          "height": 34
        },
        "outputId": "4b5069db-52be-4efd-f33a-b6e72c4df762"
      },
      "source": [
        "def maxnum(a_list):\n",
        "    biggest = 0\n",
        "    for number in a_list:\n",
        "        if number > biggest:\n",
        "            biggest = number\n",
        "        else:\n",
        "            continue\n",
        "    return biggest\n",
        "\n",
        "maxnum([23, 45, 162, 87, 54, 127])\n"
      ],
      "execution_count": 3,
      "outputs": [
        {
          "output_type": "execute_result",
          "data": {
            "text/plain": [
              "162"
            ]
          },
          "metadata": {
            "tags": []
          },
          "execution_count": 3
        }
      ]
    },
    {
      "cell_type": "markdown",
      "metadata": {
        "id": "W1jRfBRVEodB",
        "colab_type": "text"
      },
      "source": [
        "Write a function, lastword, that takes a list of words. It returns the word in that list that occurs last, alphabetically."
      ]
    },
    {
      "cell_type": "code",
      "metadata": {
        "id": "tnIGJKmrE-JC",
        "colab_type": "code",
        "colab": {
          "base_uri": "https://localhost:8080/",
          "height": 34
        },
        "outputId": "a20a59df-5131-4c61-9e33-faa099051b75"
      },
      "source": [
        "def lastword(w_list):\n",
        "    end_word = \"\"\n",
        "    for word in w_list:\n",
        "        if word > end_word:\n",
        "            end_word = word\n",
        "        else:\n",
        "            continue\n",
        "    return end_word\n",
        "\n",
        "lastword(['acid', 'garfield', 'pipe', 'x-ray', 'baby', 'dog', 'zebra', 'zeppelin'])\n"
      ],
      "execution_count": 5,
      "outputs": [
        {
          "output_type": "execute_result",
          "data": {
            "text/plain": [
              "'zeppelin'"
            ]
          },
          "metadata": {
            "tags": []
          },
          "execution_count": 5
        }
      ]
    },
    {
      "cell_type": "markdown",
      "metadata": {
        "id": "GwZ1EKTbEzVO",
        "colab_type": "text"
      },
      "source": [
        "Write a function, charcount, that takes a string and returns a dict. The dict’s keys will be all of the different characters that occur in the string, and its values will be the number of times that each character appeared."
      ]
    },
    {
      "cell_type": "code",
      "metadata": {
        "colab_type": "code",
        "id": "5Snsb9LiMGv3",
        "colab": {
          "base_uri": "https://localhost:8080/",
          "height": 34
        },
        "outputId": "d6576b2d-6ef5-45c3-a257-304c768d5b38"
      },
      "source": [
        "def charcount(longstring): # Without spaces or capitals\n",
        "  count = {}\n",
        "  for character in longstring:\n",
        "     if character == ' ':\n",
        "      continue\n",
        "     else:\n",
        "      character = character.lower()\n",
        "      if character in count:\n",
        "        count[character] += 1\n",
        "      else:\n",
        "        count[character] = 1\n",
        "  return count\n",
        "\n",
        "charcount('This is a test sentence')"
      ],
      "execution_count": 14,
      "outputs": [
        {
          "output_type": "execute_result",
          "data": {
            "text/plain": [
              "{'a': 1, 'c': 1, 'e': 4, 'h': 1, 'i': 2, 'n': 2, 's': 4, 't': 4}"
            ]
          },
          "metadata": {
            "tags": []
          },
          "execution_count": 14
        }
      ]
    }
  ]
}